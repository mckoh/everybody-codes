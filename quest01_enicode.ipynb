{
 "cells": [
  {
   "cell_type": "markdown",
   "metadata": {
    "vscode": {
     "languageId": "sql"
    }
   },
   "source": [
    "# Quest 1: EniCode"
   ]
  },
  {
   "cell_type": "code",
   "execution_count": 33,
   "metadata": {},
   "outputs": [],
   "source": [
    "def eni(n, exp, mod):\n",
    "    \"\"\"Calculation function.\n",
    "    :param n: The number  N  is multiplied by itself many times.\n",
    "    :param exp: The parameter  EXP  says how many times the number  N  is multiplied by itself.\n",
    "    :param mod: The number  MOD  is used to take the remainder after each multiplication.\n",
    "    \"\"\"\n",
    "\n",
    "    remainders = []\n",
    "    remainder = 1\n",
    "    for _ in range(exp):\n",
    "        result = remainder * n\n",
    "        remainder = result % mod\n",
    "        remainders.append(str(remainder))\n",
    "\n",
    "    return int(\"\".join(remainders[::-1]))\n",
    "\n",
    "\n",
    "def split_notes(file):\n",
    "    with open(file, encoding=\"utf-8\") as input_file:\n",
    "        content = input_file.read().split(\"\\n\")\n",
    "    return [[int(item[2:]) for item in line.split(\" \")] for line in content]\n",
    "\n",
    "\n",
    "def calculate_line(line):\n",
    "    A, B, C = line[0], line[1], line[2]\n",
    "    X, Y, Z = line[3], line[4], line[5]\n",
    "    M = line[6]\n",
    "    return eni(A, X, M) + eni(B, Y, M) + eni(C, Z, M)\n",
    "\n",
    "\n",
    "def calculate(file = \"notes/everybody_codes_e1_q01_p1.txt\"):\n",
    "    lines = split_notes(file)\n",
    "\n",
    "    highest = 0\n",
    "\n",
    "    for line in lines:\n",
    "        result = calculate_line(line)\n",
    "        if result > highest:\n",
    "            highest = result\n",
    "\n",
    "    return highest\n"
   ]
  },
  {
   "cell_type": "code",
   "execution_count": 35,
   "metadata": {},
   "outputs": [
    {
     "data": {
      "text/plain": [
       "5146460705"
      ]
     },
     "execution_count": 35,
     "metadata": {},
     "output_type": "execute_result"
    }
   ],
   "source": [
    "calculate()"
   ]
  },
  {
   "cell_type": "code",
   "execution_count": null,
   "metadata": {},
   "outputs": [],
   "source": []
  },
  {
   "cell_type": "code",
   "execution_count": null,
   "metadata": {},
   "outputs": [],
   "source": []
  }
 ],
 "metadata": {
  "kernelspec": {
   "display_name": "Python 3",
   "language": "python",
   "name": "python3"
  },
  "language_info": {
   "codemirror_mode": {
    "name": "ipython",
    "version": 3
   },
   "file_extension": ".py",
   "mimetype": "text/x-python",
   "name": "python",
   "nbconvert_exporter": "python",
   "pygments_lexer": "ipython3",
   "version": "3.13.0"
  }
 },
 "nbformat": 4,
 "nbformat_minor": 2
}
