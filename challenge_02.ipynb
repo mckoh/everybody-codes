{
 "cells": [
  {
   "cell_type": "code",
   "execution_count": null,
   "metadata": {},
   "outputs": [],
   "source": [
    "TEST_1 = \"WORDS:THE,OWE,MES,ROD,HER\\n\\nAWAKEN THE POWER ADORNED WITH THE FLAMES BRIGHT IRE\"\n",
    "TEST_2 = \"\"\"WORDS:THE,OWE,MES,ROD,HER,QAQ\n",
    "\n",
    "AWAKEN THE POWE ADORNED WITH THE FLAMES BRIGHT IRE\n",
    "THE FLAME SHIELDED THE HEART OF THE KINGS\n",
    "POWE PO WER P OWE R\n",
    "THERE IS THE END\n",
    "QAQAQ\"\"\"\n",
    "\n",
    "with open(\"challenge_02a.data\", \"r\") as file:\n",
    "    DATA_1 = file.read()\n",
    "\n",
    "with open(\"challenge_02b.data\", \"r\") as file:\n",
    "    DATA_2 = file.read()"
   ]
  },
  {
   "cell_type": "code",
   "execution_count": 44,
   "metadata": {},
   "outputs": [],
   "source": [
    "def find_matches(words, sentence, part=1):\n",
    "    output = 0\n",
    "    print(\"\\n\")\n",
    "    print(sentence)\n",
    "    for word in sentence:\n",
    "        print(word)\n",
    "        characters = set()\n",
    "        for phrase in words:\n",
    "            if word.find(phrase) >= 0 or word.find(phrase[::-1]) >= 0:\n",
    "                if part == 1:\n",
    "                    output += 1\n",
    "                if part == 2:\n",
    "                    [characters.add(c) for c in list(phrase)]\n",
    "        if part == 2:\n",
    "            print(characters)\n",
    "            output += len(characters)\n",
    "    print(output)\n",
    "    return output\n",
    "\n",
    "def part_01(data):\n",
    "    parts = data.split(\"\\n\\n\")\n",
    "    words = parts[0][6:].split(\",\")\n",
    "    sentence = parts[1].split(\" \")\n",
    "    return find_matches(words, sentence)\n",
    "\n",
    "def part_02(data):\n",
    "    count = 0\n",
    "    parts = data.split(\"\\n\\n\")\n",
    "    words = parts[0][6:].split(\",\")\n",
    "    for sentence in [sentence.split(\" \") for sentence in parts[1].split(\"\\n\")]:\n",
    "        count += find_matches(words, sentence, 2)\n",
    "    return count"
   ]
  },
  {
   "cell_type": "code",
   "execution_count": 45,
   "metadata": {},
   "outputs": [
    {
     "name": "stdout",
     "output_type": "stream",
     "text": [
      "\n",
      "\n",
      "['AWAKEN', 'THE', 'POWER', 'ADORNED', 'WITH', 'THE', 'FLAMES', 'BRIGHT', 'IRE']\n",
      "AWAKEN\n",
      "THE\n",
      "POWER\n",
      "ADORNED\n",
      "WITH\n",
      "THE\n",
      "FLAMES\n",
      "BRIGHT\n",
      "IRE\n",
      "5\n",
      "5\n",
      "\n",
      "\n",
      "['LOREM', 'IPSUM', 'DOLOR', 'SIT', 'AMET,', 'CONSECTETUR', 'ADIPISCING', 'ELIT,', 'SED', 'DO', 'EIUSMOD', 'TEMPOR', 'INCIDIDUNT', 'UT', 'LABORE', 'ET', 'DOLORE', 'MAGNA', 'ALIQUA.', 'UT', 'ENIM', 'AD', 'MINIM', 'VENIAM,', 'QUIS', 'NOSTRUD', 'EXERCITATION', 'ULLAMCO', 'LABORIS', 'NISI', 'UT', 'ALIQUIP', 'EX', 'EA', 'COMMODO', 'CONSEQUAT.', 'DUIS', 'AUTE', 'IRURE', 'DOLOR', 'IN', 'REPREHENDERIT', 'IN', 'VOLUPTATE', 'VELIT', 'ESSE', 'CILLUM', 'DOLORE', 'EU', 'FUGIAT', 'NULLA', 'PARIATUR.', 'EXCEPTEUR', 'SINT', 'OCCAECAT', 'CUPIDATAT', 'NON', 'PROIDENT,', 'SUNT', 'IN', 'CULPA', 'QUI', 'OFFICIA', 'DESERUNT', 'MOLLIT', 'ANIM', 'ID', 'EST', 'LABORUM.']\n",
      "LOREM\n",
      "IPSUM\n",
      "DOLOR\n",
      "SIT\n",
      "AMET,\n",
      "CONSECTETUR\n",
      "ADIPISCING\n",
      "ELIT,\n",
      "SED\n",
      "DO\n",
      "EIUSMOD\n",
      "TEMPOR\n",
      "INCIDIDUNT\n",
      "UT\n",
      "LABORE\n",
      "ET\n",
      "DOLORE\n",
      "MAGNA\n",
      "ALIQUA.\n",
      "UT\n",
      "ENIM\n",
      "AD\n",
      "MINIM\n",
      "VENIAM,\n",
      "QUIS\n",
      "NOSTRUD\n",
      "EXERCITATION\n",
      "ULLAMCO\n",
      "LABORIS\n",
      "NISI\n",
      "UT\n",
      "ALIQUIP\n",
      "EX\n",
      "EA\n",
      "COMMODO\n",
      "CONSEQUAT.\n",
      "DUIS\n",
      "AUTE\n",
      "IRURE\n",
      "DOLOR\n",
      "IN\n",
      "REPREHENDERIT\n",
      "IN\n",
      "VOLUPTATE\n",
      "VELIT\n",
      "ESSE\n",
      "CILLUM\n",
      "DOLORE\n",
      "EU\n",
      "FUGIAT\n",
      "NULLA\n",
      "PARIATUR.\n",
      "EXCEPTEUR\n",
      "SINT\n",
      "OCCAECAT\n",
      "CUPIDATAT\n",
      "NON\n",
      "PROIDENT,\n",
      "SUNT\n",
      "IN\n",
      "CULPA\n",
      "QUI\n",
      "OFFICIA\n",
      "DESERUNT\n",
      "MOLLIT\n",
      "ANIM\n",
      "ID\n",
      "EST\n",
      "LABORUM.\n",
      "44\n",
      "44\n"
     ]
    }
   ],
   "source": [
    "print(part_01(TEST_1))\n",
    "print(part_01(DATA_1))"
   ]
  },
  {
   "cell_type": "code",
   "execution_count": 46,
   "metadata": {},
   "outputs": [
    {
     "name": "stdout",
     "output_type": "stream",
     "text": [
      "\n",
      "\n",
      "['AWAKEN', 'THE', 'POWE', 'ADORNED', 'WITH', 'THE', 'FLAMES', 'BRIGHT', 'IRE']\n",
      "AWAKEN\n",
      "set()\n",
      "THE\n",
      "{'H', 'T', 'E'}\n",
      "POWE\n",
      "{'W', 'E', 'O'}\n",
      "ADORNED\n",
      "{'R', 'D', 'O'}\n",
      "WITH\n",
      "set()\n",
      "THE\n",
      "{'H', 'T', 'E'}\n",
      "FLAMES\n",
      "{'S', 'M', 'E'}\n",
      "BRIGHT\n",
      "set()\n",
      "IRE\n",
      "set()\n",
      "15\n",
      "\n",
      "\n",
      "['THE', 'FLAME', 'SHIELDED', 'THE', 'HEART', 'OF', 'THE', 'KINGS']\n",
      "THE\n",
      "{'H', 'T', 'E'}\n",
      "FLAME\n",
      "set()\n",
      "SHIELDED\n",
      "set()\n",
      "THE\n",
      "{'H', 'T', 'E'}\n",
      "HEART\n",
      "set()\n",
      "OF\n",
      "set()\n",
      "THE\n",
      "{'H', 'T', 'E'}\n",
      "KINGS\n",
      "set()\n",
      "9\n",
      "\n",
      "\n",
      "['POWE', 'PO', 'WER', 'P', 'OWE', 'R']\n",
      "POWE\n",
      "{'W', 'E', 'O'}\n",
      "PO\n",
      "set()\n",
      "WER\n",
      "set()\n",
      "P\n",
      "set()\n",
      "OWE\n",
      "{'W', 'E', 'O'}\n",
      "R\n",
      "set()\n",
      "6\n",
      "\n",
      "\n",
      "['THERE', 'IS', 'THE', 'END']\n",
      "THERE\n",
      "{'H', 'R', 'T', 'E'}\n",
      "IS\n",
      "set()\n",
      "THE\n",
      "{'H', 'T', 'E'}\n",
      "END\n",
      "set()\n",
      "7\n",
      "\n",
      "\n",
      "['QAQAQ']\n",
      "QAQAQ\n",
      "{'A', 'Q'}\n",
      "2\n",
      "39\n"
     ]
    }
   ],
   "source": [
    "print(part_02(TEST_2))\n",
    "#print(part_02(DATA_2))"
   ]
  },
  {
   "cell_type": "code",
   "execution_count": 22,
   "metadata": {},
   "outputs": [],
   "source": [
    "b = set()\n",
    "a = \"abc\""
   ]
  },
  {
   "cell_type": "code",
   "execution_count": null,
   "metadata": {},
   "outputs": [
    {
     "data": {
      "text/plain": [
       "[None, None, None]"
      ]
     },
     "execution_count": 26,
     "metadata": {},
     "output_type": "execute_result"
    }
   ],
   "source": []
  },
  {
   "cell_type": "code",
   "execution_count": 27,
   "metadata": {},
   "outputs": [
    {
     "data": {
      "text/plain": [
       "{'a', 'abc', 'b', 'c'}"
      ]
     },
     "execution_count": 27,
     "metadata": {},
     "output_type": "execute_result"
    }
   ],
   "source": [
    "b"
   ]
  },
  {
   "cell_type": "code",
   "execution_count": null,
   "metadata": {},
   "outputs": [],
   "source": []
  }
 ],
 "metadata": {
  "kernelspec": {
   "display_name": "Python 3",
   "language": "python",
   "name": "python3"
  },
  "language_info": {
   "codemirror_mode": {
    "name": "ipython",
    "version": 3
   },
   "file_extension": ".py",
   "mimetype": "text/x-python",
   "name": "python",
   "nbconvert_exporter": "python",
   "pygments_lexer": "ipython3",
   "version": "3.13.0"
  }
 },
 "nbformat": 4,
 "nbformat_minor": 2
}
